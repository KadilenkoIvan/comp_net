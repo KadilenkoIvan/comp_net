{
 "cells": [
  {
   "cell_type": "code",
   "execution_count": 110,
   "id": "b966d5b2-439c-4e95-b321-b2f33e8d4c2e",
   "metadata": {},
   "outputs": [
    {
     "name": "stdout",
     "output_type": "stream",
     "text": [
      "Requirement already satisfied: pythonping in c:\\users\\ivan k\\appdata\\local\\programs\\python\\python310\\lib\\site-packages (1.1.4)\n"
     ]
    }
   ],
   "source": [
    "!pip install pythonping"
   ]
  },
  {
   "cell_type": "code",
   "execution_count": 147,
   "id": "23a4aec9-09e8-4f01-8018-efa47c81aa9d",
   "metadata": {},
   "outputs": [
    {
     "data": {
      "text/plain": [
       "Reply from 64.233.164.138, 29 bytes in 72.06ms\n",
       "Reply from 64.233.164.138, 29 bytes in 336.97ms\n",
       "Reply from 64.233.164.138, 29 bytes in 73.88ms\n",
       "Reply from 64.233.164.138, 29 bytes in 150.89ms\n",
       "\n",
       "Round Trip Times min/avg/max is 72.06/158.45/336.97 ms"
      ]
     },
     "execution_count": 147,
     "metadata": {},
     "output_type": "execute_result"
    }
   ],
   "source": [
    "ping(\"google.com\")"
   ]
  },
  {
   "cell_type": "code",
   "execution_count": 143,
   "id": "b778dd2a-c5c4-472d-b452-0870dbaf25b9",
   "metadata": {},
   "outputs": [],
   "source": [
    "from pythonping import ping"
   ]
  },
  {
   "cell_type": "code",
   "execution_count": 144,
   "id": "73e6191c-05fa-4227-ab9f-a9dc24d4554b",
   "metadata": {},
   "outputs": [],
   "source": [
    "def ping_sites(sites):\n",
    "    out = []\n",
    "    for site in sites:\n",
    "        try:\n",
    "            site_ping = ping(site)\n",
    "            out.append([site, site_ping.rtt_avg_ms, site_ping.stats_packets_sent, site_ping.stats_packets_lost])\n",
    "        except Exception as exp:\n",
    "            print(f\"Error with \\\"{site}\\\" address: \\\"{exp}\\\"\")\n",
    "    return out"
   ]
  },
  {
   "cell_type": "code",
   "execution_count": 145,
   "id": "6cc293f7-15e9-4a73-b685-3d93db2dd291",
   "metadata": {},
   "outputs": [],
   "source": [
    "def to_csv(file_name, data):\n",
    "    with open(file_name, \"w\") as file:\n",
    "        for site in data:\n",
    "            for elem in site:\n",
    "                file.write(str(elem) + ';')\n",
    "            file.write(\"\\n\")"
   ]
  },
  {
   "cell_type": "code",
   "execution_count": 146,
   "id": "3b8c3f37-e46b-44e1-9bef-63990c54db71",
   "metadata": {},
   "outputs": [
    {
     "name": "stdout",
     "output_type": "stream",
     "text": [
      "Error with \"qцукен\" address: \"Cannot resolve address \"qцукен\", try verify your DNS or host file\"\n"
     ]
    }
   ],
   "source": [
    "to_csv(\"file.csv\", ping_sites([\"qцукен\", \"bing.com\", \"google.com\", \"nsu.ru\", \"yandex.ru\"]))"
   ]
  },
  {
   "cell_type": "code",
   "execution_count": null,
   "id": "cd61073a-cc32-4881-a14e-87a6d2a950a1",
   "metadata": {},
   "outputs": [],
   "source": []
  }
 ],
 "metadata": {
  "kernelspec": {
   "display_name": "Python 3 (ipykernel)",
   "language": "python",
   "name": "python3"
  },
  "language_info": {
   "codemirror_mode": {
    "name": "ipython",
    "version": 3
   },
   "file_extension": ".py",
   "mimetype": "text/x-python",
   "name": "python",
   "nbconvert_exporter": "python",
   "pygments_lexer": "ipython3",
   "version": "3.10.7"
  }
 },
 "nbformat": 4,
 "nbformat_minor": 5
}
