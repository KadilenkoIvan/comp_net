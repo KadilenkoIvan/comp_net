{
 "cells": [
  {
   "cell_type": "code",
   "execution_count": 46,
   "id": "e6507b95-69cb-427a-b0c7-216be0430b32",
   "metadata": {},
   "outputs": [
    {
     "data": {
      "text/plain": [
       "'import subprocess\\ndef ping_google():\\n    try:\\n        result = subprocess.run([\\'ping\\', \\'google.com\\'], capture_output=True, text=True, timeout=5)\\n        #result = subprocess.run([\\'ping\\', \\'google.com\\'], capture_output=True, text=True, timeout=10)\\n        if result.returncode == 0:\\n            print(result.stdout)\\n        else:\\n            print(\"Error:\", result.returncode)\\n    except subprocess.TimeoutExpired:\\n        print(\"timeout\")'"
      ]
     },
     "execution_count": 46,
     "metadata": {},
     "output_type": "execute_result"
    }
   ],
   "source": [
    "'''import subprocess\n",
    "def ping_func():\n",
    "    try:\n",
    "        result = subprocess.run(['ping', 'google.com'], capture_output=True, text=True, timeout=5)\n",
    "        #result = subprocess.run(['ping', 'google.com'], capture_output=True, text=True, timeout=10)\n",
    "        if result.returncode == 0:\n",
    "            print(result.stdout)\n",
    "        else:\n",
    "            print(\"Error:\", result.returncode)\n",
    "    except subprocess.TimeoutExpired:\n",
    "        print(\"timeout\")'''"
   ]
  },
  {
   "cell_type": "code",
   "execution_count": 47,
   "id": "2adc6b12-ce48-4c73-92c5-6e15562e51fa",
   "metadata": {},
   "outputs": [
    {
     "name": "stdout",
     "output_type": "stream",
     "text": [
      "\n",
      "ЋЎ¬Ґ­ Ї ЄҐв ¬Ё б google.com [64.233.162.102] б 32 Ў ©в ¬Ё ¤ ­­ле:\n",
      "ЋвўҐв ®в 64.233.162.102: зЁб«® Ў ©в=32 ўаҐ¬п=73¬б TTL=108\n",
      "ЋвўҐв ®в 64.233.162.102: зЁб«® Ў ©в=32 ўаҐ¬п=72¬б TTL=108\n",
      "ЋвўҐв ®в 64.233.162.102: зЁб«® Ў ©в=32 ўаҐ¬п=73¬б TTL=108\n",
      "ЋвўҐв ®в 64.233.162.102: зЁб«® Ў ©в=32 ўаҐ¬п=73¬б TTL=108\n",
      "\n",
      "‘в вЁбвЁЄ  Ping ¤«п 64.233.162.102:\n",
      "    Џ ЄҐв®ў: ®вЇа ў«Ґ­® = 4, Ї®«гзҐ­® = 4, Ї®вҐап­® = 0\n",
      "    (0% Ї®вҐам)\n",
      "ЏаЁЎ«Ё§ЁвҐ«м­®Ґ ўаҐ¬п ЇаЁҐ¬ -ЇҐаҐ¤ зЁ ў ¬б:\n",
      "    ЊЁ­Ё¬ «м­®Ґ = 72¬бҐЄ, Њ ЄбЁ¬ «м­®Ґ = 73 ¬бҐЄ, ‘аҐ¤­ҐҐ = 72 ¬бҐЄ\n",
      "\n"
     ]
    }
   ],
   "source": [
    "ping_google()"
   ]
  },
  {
   "cell_type": "code",
   "execution_count": 36,
   "id": "b778dd2a-c5c4-472d-b452-0870dbaf25b9",
   "metadata": {},
   "outputs": [],
   "source": [
    "from pythonping import ping"
   ]
  },
  {
   "cell_type": "code",
   "execution_count": 60,
   "id": "70439f55-60eb-40c0-907c-7042cad05c98",
   "metadata": {},
   "outputs": [
    {
     "data": {
      "text/plain": [
       "Reply from 64.233.162.139, 29 bytes in 72.97ms\n",
       "Reply from 64.233.162.139, 29 bytes in 71.25ms\n",
       "Reply from 64.233.162.139, 29 bytes in 1702.97ms\n",
       "Reply from 64.233.162.139, 29 bytes in 71.71ms\n",
       "\n",
       "Round Trip Times min/avg/max is 71.25/479.73/1702.97 ms"
      ]
     },
     "execution_count": 60,
     "metadata": {},
     "output_type": "execute_result"
    }
   ],
   "source": [
    "my_ping = ping(\"google.com\")\n",
    "my_ping"
   ]
  },
  {
   "cell_type": "code",
   "execution_count": 89,
   "id": "73e6191c-05fa-4227-ab9f-a9dc24d4554b",
   "metadata": {},
   "outputs": [],
   "source": [
    "def ping_sites(sites):\n",
    "    out = []\n",
    "    for site in sites:\n",
    "        site_ping = ping(site)\n",
    "        s = []\n",
    "        s.extend([site, site_ping.rtt_min_ms, site_ping.rtt_avg_ms, site_ping.rtt_max_ms])\n",
    "        out.append(s)\n",
    "    return out"
   ]
  },
  {
   "cell_type": "code",
   "execution_count": 96,
   "id": "6cc293f7-15e9-4a73-b685-3d93db2dd291",
   "metadata": {},
   "outputs": [],
   "source": [
    "def to_csv(file_name, data):\n",
    "    with open(file_name, \"w\") as file:\n",
    "        for site in data:\n",
    "            #print(site)\n",
    "            for elem in site:\n",
    "                file.write(str(elem) + ';')\n",
    "            file.write('\\n')"
   ]
  },
  {
   "cell_type": "code",
   "execution_count": 97,
   "id": "3b8c3f37-e46b-44e1-9bef-63990c54db71",
   "metadata": {},
   "outputs": [
    {
     "name": "stdout",
     "output_type": "stream",
     "text": [
      "['google.com', 69.17, 152.65, 373.9]\n",
      "['nsu.ru', 2.93, 3.99, 4.72]\n",
      "['yandex.ru', 2.98, 529.8, 2000]\n"
     ]
    }
   ],
   "source": [
    "to_csv(\"file.csv\", ping_sites([\"google.com\", \"nsu.ru\", \"yandex.ru\"]))"
   ]
  },
  {
   "cell_type": "code",
   "execution_count": null,
   "id": "cd61073a-cc32-4881-a14e-87a6d2a950a1",
   "metadata": {},
   "outputs": [],
   "source": []
  }
 ],
 "metadata": {
  "kernelspec": {
   "display_name": "Python 3 (ipykernel)",
   "language": "python",
   "name": "python3"
  },
  "language_info": {
   "codemirror_mode": {
    "name": "ipython",
    "version": 3
   },
   "file_extension": ".py",
   "mimetype": "text/x-python",
   "name": "python",
   "nbconvert_exporter": "python",
   "pygments_lexer": "ipython3",
   "version": "3.10.7"
  }
 },
 "nbformat": 4,
 "nbformat_minor": 5
}
